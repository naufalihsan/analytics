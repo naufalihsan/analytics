{
 "cells": [
  {
   "cell_type": "code",
   "execution_count": 3,
   "id": "a3b6c287-373d-4580-9497-dbe7ced7cd47",
   "metadata": {},
   "outputs": [
    {
     "name": "stdout",
     "output_type": "stream",
     "text": [
      "--2024-01-15 22:54:05--  http://archive.ics.uci.edu/ml/machine-learning-databases/00352/Online%20Retail.xlsx\n",
      "Resolving archive.ics.uci.edu (archive.ics.uci.edu)... 128.195.10.252\n",
      "Connecting to archive.ics.uci.edu (archive.ics.uci.edu)|128.195.10.252|:80... connected.\n",
      "HTTP request sent, awaiting response... 200 OK\n",
      "Length: unspecified\n",
      "Saving to: ‘/notebooks/analytics/datasets/Online Retail.xlsx’\n",
      "\n",
      "Online Retail.xlsx      [      <=>           ]  22.62M  21.8MB/s    in 1.0s    \n",
      "\n",
      "Last-modified header missing -- time-stamps turned off.\n",
      "2024-01-15 22:54:08 (21.8 MB/s) - ‘/notebooks/analytics/datasets/Online Retail.xlsx’ saved [23715344]\n",
      "\n"
     ]
    }
   ],
   "source": [
    "!wget -N http://archive.ics.uci.edu/ml/machine-learning-databases/00352/Online%20Retail.xlsx -P /notebooks/analytics/datasets/"
   ]
  },
  {
   "cell_type": "code",
   "execution_count": 1,
   "id": "c47a0d7f-bb85-4a3f-83e2-e5a68b67d3db",
   "metadata": {},
   "outputs": [
    {
     "name": "stdout",
     "output_type": "stream",
     "text": [
      "\u001b[33mWARNING: Running pip as the 'root' user can result in broken permissions and conflicting behaviour with the system package manager. It is recommended to use a virtual environment instead: https://pip.pypa.io/warnings/venv\u001b[0m\u001b[33m\n",
      "\u001b[0m"
     ]
    }
   ],
   "source": [
    "!pip install -q btyd==0.1a1 lifetimes==0.11.3 openpyxl==3.1.2"
   ]
  },
  {
   "cell_type": "markdown",
   "id": "1c171efb-f3af-4c74-b274-5ce3d1b7e319",
   "metadata": {
    "jp-MarkdownHeadingCollapsed": true,
    "tags": []
   },
   "source": [
    "### Data Understanding"
   ]
  },
  {
   "cell_type": "code",
   "execution_count": 2,
   "id": "46e2a758-13f8-4c89-9639-bbe0ab81e8d0",
   "metadata": {},
   "outputs": [],
   "source": [
    "import pandas as pd\n",
    "import numpy as np"
   ]
  },
  {
   "cell_type": "code",
   "execution_count": 3,
   "id": "b968518c-949f-4f65-b7ce-2485e7b0c689",
   "metadata": {},
   "outputs": [],
   "source": [
    "orders_schema = {\n",
    "  'InvoiceNo': str,\n",
    "  'StockCode': str,\n",
    "  'Description': str,\n",
    "  'Quantity': np.int64,\n",
    "  'InvoiceDate': np.datetime64,\n",
    "  'UnitPrice': np.float64,\n",
    "  'CustomerID': str,\n",
    "  'Country': str  \n",
    "}"
   ]
  },
  {
   "cell_type": "code",
   "execution_count": 4,
   "id": "f9236f2e-ab5a-4944-8ab8-66a25cc4862e",
   "metadata": {},
   "outputs": [],
   "source": [
    "df = pd.read_excel(\n",
    "    \"./datasets/Online Retail.xlsx\",\n",
    "    sheet_name='Online Retail',\n",
    "    header=0,\n",
    "    dtype=orders_schema\n",
    ")"
   ]
  },
  {
   "cell_type": "code",
   "execution_count": 5,
   "id": "087ca81b-ff68-4131-99b4-a921761da558",
   "metadata": {},
   "outputs": [],
   "source": [
    "df['SalesAmount'] = df['Quantity'] * df['UnitPrice']"
   ]
  },
  {
   "cell_type": "code",
   "execution_count": 6,
   "id": "7e9d126b-bc7d-421b-81b0-6975d7263de3",
   "metadata": {},
   "outputs": [
    {
     "data": {
      "text/html": [
       "<div>\n",
       "<style scoped>\n",
       "    .dataframe tbody tr th:only-of-type {\n",
       "        vertical-align: middle;\n",
       "    }\n",
       "\n",
       "    .dataframe tbody tr th {\n",
       "        vertical-align: top;\n",
       "    }\n",
       "\n",
       "    .dataframe thead th {\n",
       "        text-align: right;\n",
       "    }\n",
       "</style>\n",
       "<table border=\"1\" class=\"dataframe\">\n",
       "  <thead>\n",
       "    <tr style=\"text-align: right;\">\n",
       "      <th></th>\n",
       "      <th>InvoiceNo</th>\n",
       "      <th>StockCode</th>\n",
       "      <th>Description</th>\n",
       "      <th>Quantity</th>\n",
       "      <th>InvoiceDate</th>\n",
       "      <th>UnitPrice</th>\n",
       "      <th>CustomerID</th>\n",
       "      <th>Country</th>\n",
       "      <th>SalesAmount</th>\n",
       "    </tr>\n",
       "  </thead>\n",
       "  <tbody>\n",
       "    <tr>\n",
       "      <th>0</th>\n",
       "      <td>536365</td>\n",
       "      <td>85123A</td>\n",
       "      <td>WHITE HANGING HEART T-LIGHT HOLDER</td>\n",
       "      <td>6</td>\n",
       "      <td>2010-12-01 08:26:00</td>\n",
       "      <td>2.55</td>\n",
       "      <td>17850</td>\n",
       "      <td>United Kingdom</td>\n",
       "      <td>15.30</td>\n",
       "    </tr>\n",
       "    <tr>\n",
       "      <th>1</th>\n",
       "      <td>536365</td>\n",
       "      <td>71053</td>\n",
       "      <td>WHITE METAL LANTERN</td>\n",
       "      <td>6</td>\n",
       "      <td>2010-12-01 08:26:00</td>\n",
       "      <td>3.39</td>\n",
       "      <td>17850</td>\n",
       "      <td>United Kingdom</td>\n",
       "      <td>20.34</td>\n",
       "    </tr>\n",
       "    <tr>\n",
       "      <th>2</th>\n",
       "      <td>536365</td>\n",
       "      <td>84406B</td>\n",
       "      <td>CREAM CUPID HEARTS COAT HANGER</td>\n",
       "      <td>8</td>\n",
       "      <td>2010-12-01 08:26:00</td>\n",
       "      <td>2.75</td>\n",
       "      <td>17850</td>\n",
       "      <td>United Kingdom</td>\n",
       "      <td>22.00</td>\n",
       "    </tr>\n",
       "    <tr>\n",
       "      <th>3</th>\n",
       "      <td>536365</td>\n",
       "      <td>84029G</td>\n",
       "      <td>KNITTED UNION FLAG HOT WATER BOTTLE</td>\n",
       "      <td>6</td>\n",
       "      <td>2010-12-01 08:26:00</td>\n",
       "      <td>3.39</td>\n",
       "      <td>17850</td>\n",
       "      <td>United Kingdom</td>\n",
       "      <td>20.34</td>\n",
       "    </tr>\n",
       "    <tr>\n",
       "      <th>4</th>\n",
       "      <td>536365</td>\n",
       "      <td>84029E</td>\n",
       "      <td>RED WOOLLY HOTTIE WHITE HEART.</td>\n",
       "      <td>6</td>\n",
       "      <td>2010-12-01 08:26:00</td>\n",
       "      <td>3.39</td>\n",
       "      <td>17850</td>\n",
       "      <td>United Kingdom</td>\n",
       "      <td>20.34</td>\n",
       "    </tr>\n",
       "  </tbody>\n",
       "</table>\n",
       "</div>"
      ],
      "text/plain": [
       "  InvoiceNo StockCode                          Description  Quantity  \\\n",
       "0    536365    85123A   WHITE HANGING HEART T-LIGHT HOLDER         6   \n",
       "1    536365     71053                  WHITE METAL LANTERN         6   \n",
       "2    536365    84406B       CREAM CUPID HEARTS COAT HANGER         8   \n",
       "3    536365    84029G  KNITTED UNION FLAG HOT WATER BOTTLE         6   \n",
       "4    536365    84029E       RED WOOLLY HOTTIE WHITE HEART.         6   \n",
       "\n",
       "          InvoiceDate  UnitPrice CustomerID         Country  SalesAmount  \n",
       "0 2010-12-01 08:26:00       2.55      17850  United Kingdom        15.30  \n",
       "1 2010-12-01 08:26:00       3.39      17850  United Kingdom        20.34  \n",
       "2 2010-12-01 08:26:00       2.75      17850  United Kingdom        22.00  \n",
       "3 2010-12-01 08:26:00       3.39      17850  United Kingdom        20.34  \n",
       "4 2010-12-01 08:26:00       3.39      17850  United Kingdom        20.34  "
      ]
     },
     "execution_count": 6,
     "metadata": {},
     "output_type": "execute_result"
    }
   ],
   "source": [
    "df.head()"
   ]
  },
  {
   "cell_type": "code",
   "execution_count": 7,
   "id": "b85ea631-4515-425e-a644-5142df5ed3e0",
   "metadata": {},
   "outputs": [
    {
     "name": "stdout",
     "output_type": "stream",
     "text": [
      "<class 'pandas.core.frame.DataFrame'>\n",
      "RangeIndex: 541909 entries, 0 to 541908\n",
      "Data columns (total 9 columns):\n",
      " #   Column       Non-Null Count   Dtype         \n",
      "---  ------       --------------   -----         \n",
      " 0   InvoiceNo    541909 non-null  object        \n",
      " 1   StockCode    541909 non-null  object        \n",
      " 2   Description  540455 non-null  object        \n",
      " 3   Quantity     541909 non-null  int64         \n",
      " 4   InvoiceDate  541909 non-null  datetime64[ns]\n",
      " 5   UnitPrice    541909 non-null  float64       \n",
      " 6   CustomerID   406829 non-null  object        \n",
      " 7   Country      541909 non-null  object        \n",
      " 8   SalesAmount  541909 non-null  float64       \n",
      "dtypes: datetime64[ns](1), float64(2), int64(1), object(5)\n",
      "memory usage: 37.2+ MB\n"
     ]
    }
   ],
   "source": [
    "df.info()"
   ]
  },
  {
   "cell_type": "code",
   "execution_count": 8,
   "id": "3c169ce7-a5e7-4322-895c-c20e2de86954",
   "metadata": {},
   "outputs": [
    {
     "name": "stdout",
     "output_type": "stream",
     "text": [
      "\u001b[33mWARNING: Running pip as the 'root' user can result in broken permissions and conflicting behaviour with the system package manager. It is recommended to use a virtual environment instead: https://pip.pypa.io/warnings/venv\u001b[0m\u001b[33m\n",
      "\u001b[0m"
     ]
    }
   ],
   "source": [
    "!pip install -q pyspark"
   ]
  },
  {
   "cell_type": "code",
   "execution_count": 9,
   "id": "3eb9f569-3f55-47b9-9ed2-0e6492ea29a4",
   "metadata": {},
   "outputs": [],
   "source": [
    "from pyspark.sql import SparkSession"
   ]
  },
  {
   "cell_type": "code",
   "execution_count": 10,
   "id": "2b57b42f-69c8-483a-a15f-beaa0c37255b",
   "metadata": {},
   "outputs": [
    {
     "name": "stderr",
     "output_type": "stream",
     "text": [
      "Setting default log level to \"WARN\".\n",
      "To adjust logging level use sc.setLogLevel(newLevel). For SparkR, use setLogLevel(newLevel).\n",
      "24/01/16 22:29:16 WARN NativeCodeLoader: Unable to load native-hadoop library for your platform... using builtin-java classes where applicable\n"
     ]
    }
   ],
   "source": [
    "spark = SparkSession \\\n",
    "    .builder \\\n",
    "    .appName(\"Customer Lifetime Value\") \\\n",
    "    .getOrCreate()"
   ]
  },
  {
   "cell_type": "code",
   "execution_count": 11,
   "id": "5a04ecd2-3e57-4a5c-a358-4420b7ffde67",
   "metadata": {},
   "outputs": [],
   "source": [
    "spark.sparkContext.setLogLevel('ERROR')"
   ]
  },
  {
   "cell_type": "code",
   "execution_count": 12,
   "id": "82965ac9-26f7-4e43-a5c1-d8d02744620a",
   "metadata": {},
   "outputs": [],
   "source": [
    "orders = spark.createDataFrame(df)"
   ]
  },
  {
   "cell_type": "code",
   "execution_count": 13,
   "id": "1828b1a5-5753-4de0-b8ec-097ba9d5cd65",
   "metadata": {},
   "outputs": [],
   "source": [
    "orders.createOrReplaceTempView(\"orders\")"
   ]
  },
  {
   "cell_type": "code",
   "execution_count": 14,
   "id": "d49b3979-ca24-42bf-84da-d5d0e1d62569",
   "metadata": {},
   "outputs": [],
   "source": [
    "query = spark.sql(\n",
    "\"\"\"\n",
    "    SELECT \n",
    "        CustomerID,\n",
    "        TO_DATE(InvoiceDate) as InvoiceDate,\n",
    "        COUNT(DISTINCT InvoiceNo) as Transactions,\n",
    "        SUM(SalesAmount) as SalesAmount\n",
    "    FROM \n",
    "        orders\n",
    "    GROUP BY \n",
    "        CustomerID, TO_DATE(InvoiceDate)\n",
    "    ORDER BY \n",
    "        CustomerID, InvoiceDate;\n",
    "\"\"\")"
   ]
  },
  {
   "cell_type": "code",
   "execution_count": 15,
   "id": "bfda0b51-b54b-4f5f-9153-a9c098f851c0",
   "metadata": {},
   "outputs": [
    {
     "name": "stderr",
     "output_type": "stream",
     "text": [
      "                                                                                \r"
     ]
    },
    {
     "name": "stdout",
     "output_type": "stream",
     "text": [
      "+----------+-----------+------------+------------------+\n",
      "|CustomerID|InvoiceDate|Transactions|       SalesAmount|\n",
      "+----------+-----------+------------+------------------+\n",
      "|     12346| 2011-01-18|           2|               0.0|\n",
      "|     12347| 2010-12-07|           1|            711.79|\n",
      "|     12347| 2011-01-26|           1|            475.39|\n",
      "|     12347| 2011-04-07|           1|            636.25|\n",
      "|     12347| 2011-06-09|           1|            382.52|\n",
      "|     12347| 2011-08-02|           1|            584.91|\n",
      "|     12347| 2011-10-31|           1|1294.3200000000002|\n",
      "|     12347| 2011-12-07|           1|224.82000000000002|\n",
      "|     12348| 2010-12-16|           1| 892.8000000000001|\n",
      "|     12348| 2011-01-25|           1|227.43999999999997|\n",
      "|     12348| 2011-04-05|           1|             367.0|\n",
      "|     12348| 2011-09-25|           1|             310.0|\n",
      "|     12349| 2011-11-21|           1|           1757.55|\n",
      "|     12350| 2011-02-02|           1|334.40000000000003|\n",
      "|     12352| 2011-02-16|           1|296.49999999999994|\n",
      "|     12352| 2011-03-01|           4|144.34999999999994|\n",
      "|     12352| 2011-03-17|           1|            120.33|\n",
      "|     12352| 2011-03-22|           2|39.999999999999986|\n",
      "|     12352| 2011-09-20|           1|            366.25|\n",
      "|     12352| 2011-09-28|           1|            266.25|\n",
      "+----------+-----------+------------+------------------+\n",
      "only showing top 20 rows\n",
      "\n"
     ]
    }
   ],
   "source": [
    "query.show()"
   ]
  },
  {
   "cell_type": "code",
   "execution_count": 16,
   "id": "bdc06ee3-6e14-46e6-b35a-710c376e578e",
   "metadata": {},
   "outputs": [],
   "source": [
    "import pyspark.sql.functions as fn"
   ]
  },
  {
   "cell_type": "markdown",
   "id": "afed1bbb-bad4-46da-8d40-53da2738a9fe",
   "metadata": {
    "tags": []
   },
   "source": [
    "#### Identify Outlier Customers"
   ]
  },
  {
   "cell_type": "code",
   "execution_count": 19,
   "id": "207d1642-271a-4b8c-9110-c2b2d95da47a",
   "metadata": {},
   "outputs": [],
   "source": [
    "query = (\n",
    "    orders.groupBy(\"customerid\", \"invoicedate\")\n",
    "    .agg(fn.sum(\"salesamount\").alias(\"salesamount\"))\n",
    "    .filter(\"salesamount > 70000\")\n",
    "    .select(\"customerid\", \"salesamount\")\n",
    "    .distinct()\n",
    ")"
   ]
  },
  {
   "cell_type": "code",
   "execution_count": 20,
   "id": "af3a62a8-6392-4398-a188-5496b7aa49f9",
   "metadata": {},
   "outputs": [
    {
     "name": "stderr",
     "output_type": "stream",
     "text": [
      "[Stage 12:=========>                                                (1 + 5) / 6]\r"
     ]
    },
    {
     "name": "stdout",
     "output_type": "stream",
     "text": [
      "+----------+-----------+\n",
      "|customerid|salesamount|\n",
      "+----------+-----------+\n",
      "|     12346|    77183.6|\n",
      "|     16446|   168469.6|\n",
      "+----------+-----------+\n",
      "\n"
     ]
    },
    {
     "name": "stderr",
     "output_type": "stream",
     "text": [
      "                                                                                \r"
     ]
    }
   ],
   "source": [
    "query.show()"
   ]
  },
  {
   "cell_type": "markdown",
   "id": "83b9bc9c-1364-49e0-b62d-09c714d6b7e5",
   "metadata": {
    "tags": []
   },
   "source": [
    "#### Remove Outlier Customer and Bad Records"
   ]
  },
  {
   "cell_type": "code",
   "execution_count": 21,
   "id": "af757bae-6618-463f-b8c9-794107ac55b2",
   "metadata": {},
   "outputs": [],
   "source": [
    "customers_to_exclude = (\n",
    "    orders.groupBy(\"customerid\", \"invoicedate\")\n",
    "    .agg(fn.sum(\"salesamount\").alias(\"salesamount\"))\n",
    "    .filter(\"salesamount > 70000\")\n",
    "    .select(\"customerid\")\n",
    "    .distinct()\n",
    ")"
   ]
  },
  {
   "cell_type": "code",
   "execution_count": 22,
   "id": "5ed9ef46-3e12-4ecd-904d-438e0a54c872",
   "metadata": {},
   "outputs": [],
   "source": [
    "cleansed_orders = orders.filter(\n",
    "    \"customerid is not null and not isnan(customerid)\"\n",
    ").join(customers_to_exclude, on=\"customerid\", how=\"leftanti\")"
   ]
  },
  {
   "cell_type": "code",
   "execution_count": 23,
   "id": "fc84195c-6ecb-4fab-a902-0d4077cf2e7a",
   "metadata": {},
   "outputs": [],
   "source": [
    "cleansed_orders.createOrReplaceTempView(\"orders\")"
   ]
  },
  {
   "cell_type": "code",
   "execution_count": 24,
   "id": "cab74f7a-37fb-4c67-b7f0-147f9a557208",
   "metadata": {},
   "outputs": [
    {
     "name": "stderr",
     "output_type": "stream",
     "text": [
      "                                                                                \r"
     ]
    }
   ],
   "source": [
    "clean_df = cleansed_orders.toPandas()"
   ]
  },
  {
   "cell_type": "markdown",
   "id": "7de86483-450f-4d4e-8c93-fd594fa31cd1",
   "metadata": {
    "jp-MarkdownHeadingCollapsed": true,
    "tags": []
   },
   "source": [
    "### Exploratory Data Analysis"
   ]
  },
  {
   "cell_type": "markdown",
   "id": "a96bf53f-d4d7-4435-ad09-4f1aa64f499d",
   "metadata": {},
   "source": [
    "#### Transactions By Month"
   ]
  },
  {
   "cell_type": "code",
   "execution_count": 25,
   "id": "320dd532-add8-4daf-b81c-2813a1c461fc",
   "metadata": {},
   "outputs": [],
   "source": [
    "query = spark.sql(\n",
    "\"\"\"\n",
    "    SELECT \n",
    "      TRUNC(InvoiceDate, 'month') as InvoiceMonth,\n",
    "      COUNT(DISTINCT InvoiceNo) as Transactions,\n",
    "      SUM(SalesAmount) as SalesAmount\n",
    "    FROM \n",
    "        orders\n",
    "    GROUP BY \n",
    "        TRUNC(InvoiceDate, 'month') \n",
    "    ORDER BY \n",
    "        InvoiceMonth;\n",
    "\"\"\")"
   ]
  },
  {
   "cell_type": "code",
   "execution_count": 26,
   "id": "dab184d0-3dae-48e2-a965-97a4fe1aca1b",
   "metadata": {},
   "outputs": [
    {
     "name": "stderr",
     "output_type": "stream",
     "text": [
      "[Stage 35:===================>                                      (1 + 2) / 3]\r"
     ]
    },
    {
     "name": "stdout",
     "output_type": "stream",
     "text": [
      "+------------+------------+------------------+\n",
      "|InvoiceMonth|Transactions|       SalesAmount|\n",
      "+------------+------------+------------------+\n",
      "|  2010-12-01|        1708| 554604.0199999996|\n",
      "|  2011-01-01|        1234|475074.37999999966|\n",
      "|  2011-02-01|        1202| 436546.1499999999|\n",
      "|  2011-03-01|        1619| 579964.6099999996|\n",
      "|  2011-04-01|        1384| 426047.8510000005|\n",
      "|  2011-05-01|        1848| 648248.1799999994|\n",
      "|  2011-06-01|        1707| 608013.1600000001|\n",
      "|  2011-07-01|        1593| 574238.4810000001|\n",
      "|  2011-08-01|        1544| 616367.9999999999|\n",
      "|  2011-09-01|        2078| 931440.3720000014|\n",
      "|  2011-10-01|        2263| 974603.5899999996|\n",
      "|  2011-11-01|        3086|1132407.7400000012|\n",
      "|  2011-12-01|         919| 342506.3800000002|\n",
      "+------------+------------+------------------+\n",
      "\n"
     ]
    },
    {
     "name": "stderr",
     "output_type": "stream",
     "text": [
      "                                                                                \r"
     ]
    }
   ],
   "source": [
    "query.show()"
   ]
  },
  {
   "cell_type": "markdown",
   "id": "488332be-c955-4c4c-a971-b842e6057455",
   "metadata": {},
   "source": [
    "#### Summary Metrics"
   ]
  },
  {
   "cell_type": "code",
   "execution_count": 27,
   "id": "b27f9cfd-4ad0-490f-8a81-f53080c01ca1",
   "metadata": {},
   "outputs": [],
   "source": [
    "query = spark.sql(\n",
    "\"\"\"\n",
    "    SELECT\n",
    "        COUNT(DISTINCT CustomerID) as Customers,\n",
    "        COUNT(DISTINCT InvoiceNo) as Transactions,\n",
    "        SUM(SalesAmount) as SalesAmount\n",
    "    FROM \n",
    "        orders\n",
    "    WHERE \n",
    "        CustomerID IS NOT NULL and InvoiceDate<'2011-12-01';\n",
    "\"\"\")"
   ]
  },
  {
   "cell_type": "code",
   "execution_count": 28,
   "id": "9941f606-2539-4c4c-9f08-857f0abb5ecc",
   "metadata": {},
   "outputs": [
    {
     "name": "stderr",
     "output_type": "stream",
     "text": [
      "                                                                                \r"
     ]
    },
    {
     "name": "stdout",
     "output_type": "stream",
     "text": [
      "+---------+------------+-----------------+\n",
      "|Customers|Transactions|      SalesAmount|\n",
      "+---------+------------+-----------------+\n",
      "|     4329|       21266|7957556.534000329|\n",
      "+---------+------------+-----------------+\n",
      "\n"
     ]
    }
   ],
   "source": [
    "query.show()"
   ]
  },
  {
   "cell_type": "markdown",
   "id": "9ec3edf4-0cca-4835-a333-32e97a36e8ef",
   "metadata": {},
   "source": [
    "#### Distribution of Per-Customer Purchase Date Counts"
   ]
  },
  {
   "cell_type": "code",
   "execution_count": 29,
   "id": "44e7c032-e91c-4a50-85e5-a47aa8c33211",
   "metadata": {},
   "outputs": [],
   "source": [
    "query = spark.sql(\n",
    "\"\"\"\n",
    "    SELECT\n",
    "      x.Transactions,\n",
    "      COUNT(x.*) as Occurrences\n",
    "    FROM (\n",
    "      SELECT\n",
    "        CustomerID,\n",
    "        COUNT(DISTINCT TO_DATE(InvoiceDate)) as Transactions\n",
    "      FROM \n",
    "        orders\n",
    "      GROUP BY \n",
    "        CustomerID\n",
    "      ) x\n",
    "    GROUP BY \n",
    "      x.Transactions\n",
    "    ORDER BY\n",
    "      x.Transactions;\n",
    "\"\"\")"
   ]
  },
  {
   "cell_type": "code",
   "execution_count": 30,
   "id": "bfaf9407-92bc-440a-8382-087a27abbd54",
   "metadata": {},
   "outputs": [
    {
     "name": "stderr",
     "output_type": "stream",
     "text": [
      "                                                                                \r"
     ]
    },
    {
     "name": "stdout",
     "output_type": "stream",
     "text": [
      "+------------+-----------+\n",
      "|Transactions|Occurrences|\n",
      "+------------+-----------+\n",
      "|           1|       1380|\n",
      "|           2|        857|\n",
      "|           3|        499|\n",
      "|           4|        388|\n",
      "|           5|        277|\n",
      "|           6|        197|\n",
      "|           7|        149|\n",
      "|           8|        116|\n",
      "|           9|         70|\n",
      "|          10|         71|\n",
      "|          11|         54|\n",
      "|          12|         40|\n",
      "|          13|         35|\n",
      "|          14|         25|\n",
      "|          15|         23|\n",
      "|          16|         22|\n",
      "|          17|         23|\n",
      "|          18|         22|\n",
      "|          19|          9|\n",
      "|          20|         11|\n",
      "+------------+-----------+\n",
      "only showing top 20 rows\n",
      "\n"
     ]
    }
   ],
   "source": [
    "query.show()"
   ]
  },
  {
   "cell_type": "markdown",
   "id": "4dd61b54-e34e-4fc1-a691-af357e42d5ad",
   "metadata": {},
   "source": [
    "#### Avg Number Days between Purchase Dates"
   ]
  },
  {
   "cell_type": "code",
   "execution_count": 31,
   "id": "62bfe78a-d042-4191-a47a-7a650bf1c9da",
   "metadata": {},
   "outputs": [],
   "source": [
    "query = spark.sql(\n",
    "\"\"\"\n",
    "    WITH CustomerPurchaseDates AS (\n",
    "        SELECT DISTINCT\n",
    "            CustomerID,\n",
    "            TO_DATE(InvoiceDate) as InvoiceDate\n",
    "        FROM \n",
    "            orders \n",
    "        )\n",
    "    SELECT\n",
    "        a.CustomerID,\n",
    "        AVG(DATEDIFF(a.NextInvoiceDate, a.InvoiceDate)) as AvgDaysBetween\n",
    "    FROM (\n",
    "        SELECT \n",
    "            x.CustomerID,\n",
    "            x.InvoiceDate,\n",
    "            MIN(y.InvoiceDate) as NextInvoiceDate\n",
    "        FROM \n",
    "            CustomerPurchaseDates x\n",
    "            INNER JOIN CustomerPurchaseDates y ON x.CustomerID=y.CustomerID AND x.InvoiceDate < y.InvoiceDate\n",
    "        GROUP BY \n",
    "            x.CustomerID,\n",
    "            x.InvoiceDate\n",
    "        ) a\n",
    "    GROUP BY \n",
    "        CustomerID;\n",
    "\n",
    "\"\"\")"
   ]
  },
  {
   "cell_type": "code",
   "execution_count": 32,
   "id": "ff299470-0591-478d-8f0f-7a14f57a1856",
   "metadata": {},
   "outputs": [
    {
     "name": "stderr",
     "output_type": "stream",
     "text": [
      "[Stage 79:>                                                         (0 + 1) / 1]\r"
     ]
    },
    {
     "name": "stdout",
     "output_type": "stream",
     "text": [
      "+----------+------------------+\n",
      "|CustomerID|    AvgDaysBetween|\n",
      "+----------+------------------+\n",
      "|     12347|60.833333333333336|\n",
      "|     12348| 94.33333333333333|\n",
      "|     12352|43.333333333333336|\n",
      "|     12356|             151.5|\n",
      "|     12358|             149.0|\n",
      "|     12359|              64.8|\n",
      "|     12360|              74.0|\n",
      "|     12362|24.333333333333332|\n",
      "|     12363|             133.0|\n",
      "|     12364|              35.0|\n",
      "|     12370|             103.0|\n",
      "|     12371|              15.0|\n",
      "|     12372|             112.5|\n",
      "|     12375|              48.0|\n",
      "|     12377|              39.0|\n",
      "|     12379|              44.5|\n",
      "|     12380|              41.0|\n",
      "|     12381|              23.0|\n",
      "|     12383|              33.6|\n",
      "|     12384|              46.5|\n",
      "+----------+------------------+\n",
      "only showing top 20 rows\n",
      "\n"
     ]
    },
    {
     "name": "stderr",
     "output_type": "stream",
     "text": [
      "                                                                                \r"
     ]
    }
   ],
   "source": [
    "query.show()"
   ]
  },
  {
   "cell_type": "markdown",
   "id": "eddf18cc-61d3-4a0c-84d4-40a365eff7b9",
   "metadata": {},
   "source": [
    "Focusing on customers with repeat purchases, we can examine the distribution of the days between purchase events. What's important to note here is that most customers return to the site within 2 to 3 months of a prior purchase."
   ]
  },
  {
   "cell_type": "markdown",
   "id": "5320bdad-dabe-42d6-86e1-9c134ef1542f",
   "metadata": {},
   "source": [
    "#### Sales Distribution"
   ]
  },
  {
   "cell_type": "code",
   "execution_count": 33,
   "id": "c55c6929-36f7-41b0-a2a4-1ca446005266",
   "metadata": {},
   "outputs": [],
   "source": [
    "query = spark.sql(\n",
    "\"\"\"\n",
    "    SELECT\n",
    "        SUM(SalesAmount) as SalesAmount\n",
    "    FROM \n",
    "        orders\n",
    "    GROUP BY \n",
    "        CustomerID, TO_DATE(InvoiceDate)\n",
    "    HAVING \n",
    "        SalesAmount BETWEEN 0 AND 2500\n",
    "\"\"\")"
   ]
  },
  {
   "cell_type": "code",
   "execution_count": 34,
   "id": "fc8d377f-1899-46e1-b501-52d1e2769931",
   "metadata": {},
   "outputs": [],
   "source": [
    "import matplotlib.pyplot as plt"
   ]
  },
  {
   "cell_type": "code",
   "execution_count": 35,
   "id": "ee82631c-cd79-43d6-92ba-0614bdd7af54",
   "metadata": {},
   "outputs": [
    {
     "name": "stderr",
     "output_type": "stream",
     "text": [
      "                                                                                \r"
     ]
    }
   ],
   "source": [
    "sales_distribution = query.rdd.flatMap(lambda x: x).collect()"
   ]
  },
  {
   "cell_type": "code",
   "execution_count": 38,
   "id": "b81fb854-8ec3-4a14-83a4-3dd0132e4766",
   "metadata": {},
   "outputs": [
    {
     "data": {
      "image/png": "[encoded data removed]",
      "text/plain": [
       "<Figure size 640x480 with 1 Axes>"
      ]
     },
     "metadata": {},
     "output_type": "display_data"
    }
   ],
   "source": [
    "_  = plt.hist(sales_distribution, bins=25, edgecolor='black')"
   ]
  },
  {
   "cell_type": "markdown",
   "id": "11b74ae7-f9b0-4cde-8dd8-34e7bae12b77",
   "metadata": {},
   "source": [
    "The distribution of daily spend in this narrowed range is centered around 200 to 400 pound sterling with a **long-tail** towards higher ranges of spend. This is not a normal (gaussian) distribution."
   ]
  },
  {
   "cell_type": "markdown",
   "id": "b152ac9f-67a7-43e1-b99c-fc455cb6411d",
   "metadata": {
    "jp-MarkdownHeadingCollapsed": true,
    "tags": []
   },
   "source": [
    "### Data Preparation"
   ]
  },
  {
   "cell_type": "markdown",
   "id": "2b9bfbf7-894e-4310-8ddd-6a69b6eb36d7",
   "metadata": {},
   "source": [
    "#### Calculate Customer Metrics"
   ]
  },
  {
   "cell_type": "markdown",
   "id": "68f0867b-c762-47f9-9507-e7c2e3ff0645",
   "metadata": {},
   "source": [
    "**Buy 'til You Die (BTYD) models**\n",
    "1. Frequency - the number of dates on which a customer made a purchase **subsequent to the date of the customer's first purchase**\n",
    "2. Age (Term) - the number of time units, e.g. days, since the date of a customer's first purchase to the current date (or last date in the dataset)\n",
    "3. Recency - the age of the customer (as previously defined) at the time of their last purchase\n",
    "4. Monetary Value - the average per transaction-date spend by a customer during repeat purchases."
   ]
  },
  {
   "cell_type": "code",
   "execution_count": 65,
   "id": "03beb165-f76d-4b20-b4d4-7534ea4abe6c",
   "metadata": {},
   "outputs": [],
   "source": [
    "customer_transaction_per_date = (\n",
    "    orders.withColumn(\"transaction_date\", fn.to_date(\"invoicedate\"))\n",
    "    .groupBy(\"customerid\", \"transaction_date\")\n",
    "    .agg(fn.sum(\"salesamount\").alias(\"salesamount\"))\n",
    ")"
   ]
  },
  {
   "cell_type": "code",
   "execution_count": 66,
   "id": "d3a90024-73f4-4cd6-9493-97b2f35a8dd8",
   "metadata": {},
   "outputs": [],
   "source": [
    "customer_first_transaction_date = orders.groupBy(\"customerid\").agg(\n",
    "    fn.min(fn.to_date(\"invoicedate\")).alias(\"first_transaction_date\")\n",
    ")"
   ]
  },
  {
   "cell_type": "code",
   "execution_count": 67,
   "id": "c668aaa4-9091-442e-bb8a-cec9bc2bdd3a",
   "metadata": {},
   "outputs": [],
   "source": [
    "latest_transaction_date = orders.groupBy().agg(\n",
    "    fn.max(fn.to_date(\"invoicedate\")).alias(\"latest_transaction_date\")\n",
    ")"
   ]
  },
  {
   "cell_type": "code",
   "execution_count": 68,
   "id": "c66a3921-1526-4d43-abda-4c9bdd3d79b9",
   "metadata": {},
   "outputs": [],
   "source": [
    "cm = (\n",
    "    customer_transaction_per_date\n",
    "    .crossJoin(latest_transaction_date)\n",
    "    .join(customer_first_transaction_date, on='customerid', how='inner')\n",
    "    .selectExpr(\n",
    "      'customerid', \n",
    "      'first_transaction_date', \n",
    "      'transaction_date',\n",
    "      'salesamount',\n",
    "      'latest_transaction_date'\n",
    "    )\n",
    ")"
   ]
  },
  {
   "cell_type": "code",
   "execution_count": 69,
   "id": "f6e16f00-ae71-427a-9eb8-cbee08390b15",
   "metadata": {},
   "outputs": [],
   "source": [
    "from pyspark.sql.types import FloatType"
   ]
  },
  {
   "cell_type": "code",
   "execution_count": 70,
   "id": "c1bcc16b-656e-4b86-82e5-010a272816da",
   "metadata": {},
   "outputs": [],
   "source": [
    "btyd_spark = (\n",
    "    cm.groupBy(cm.customerid, cm.latest_transaction_date, cm.first_transaction_date)\n",
    "    .agg(\n",
    "        (fn.countDistinct(cm.transaction_date) - 1)\n",
    "        .cast(FloatType())\n",
    "        .alias(\"frequency\"),\n",
    "        fn.datediff(fn.max(cm.transaction_date), cm.first_transaction_date)\n",
    "        .cast(FloatType())\n",
    "        .alias(\"recency\"),\n",
    "        fn.datediff(cm.latest_transaction_date, cm.first_transaction_date)\n",
    "        .cast(FloatType())\n",
    "        .alias(\"T\"),\n",
    "        fn.when(fn.countDistinct(cm.transaction_date) == 1, 0)\n",
    "        .otherwise(\n",
    "            fn.sum(\n",
    "                fn.when(cm.first_transaction_date == cm.transaction_date, 0)\n",
    "                .otherwise(cm.salesamount)\n",
    "            )\n",
    "            / (fn.countDistinct(cm.transaction_date) - 1)\n",
    "        )\n",
    "        .alias(\"monetary_value\"),\n",
    "    )\n",
    "    .select(\"customerid\", \"frequency\", \"recency\", \"T\", \"monetary_value\")\n",
    "    .orderBy(\"customerid\")\n",
    ")"
   ]
  },
  {
   "cell_type": "code",
   "execution_count": 71,
   "id": "13914bc4-1333-4765-a3dd-42710d32a23b",
   "metadata": {},
   "outputs": [
    {
     "name": "stderr",
     "output_type": "stream",
     "text": [
      "                                                                                \r"
     ]
    },
    {
     "name": "stdout",
     "output_type": "stream",
     "text": [
      "+----------+---------+-------+-----+------------------+\n",
      "|customerid|frequency|recency|    T|    monetary_value|\n",
      "+----------+---------+-------+-----+------------------+\n",
      "|     12346|      0.0|    0.0|325.0|               0.0|\n",
      "|     12347|      6.0|  365.0|367.0| 599.7016666666667|\n",
      "|     12348|      3.0|  283.0|358.0|301.47999999999996|\n",
      "|     12349|      0.0|    0.0| 18.0|               0.0|\n",
      "|     12350|      0.0|    0.0|310.0|               0.0|\n",
      "|     12352|      6.0|  260.0|296.0|208.15166666666664|\n",
      "|     12353|      0.0|    0.0|204.0|               0.0|\n",
      "|     12354|      0.0|    0.0|232.0|               0.0|\n",
      "|     12355|      0.0|    0.0|214.0|               0.0|\n",
      "|     12356|      2.0|  303.0|325.0|           269.905|\n",
      "|     12357|      0.0|    0.0| 33.0|               0.0|\n",
      "|     12358|      1.0|  149.0|150.0|             683.2|\n",
      "|     12359|      5.0|  324.0|331.0|          1139.606|\n",
      "|     12360|      2.0|  148.0|200.0|            789.24|\n",
      "|     12361|      0.0|    0.0|287.0|               0.0|\n",
      "|     12362|     12.0|  292.0|295.0| 389.6233333333334|\n",
      "|     12363|      1.0|  133.0|242.0|252.90000000000003|\n",
      "|     12364|      3.0|  105.0|112.0| 229.7266666666666|\n",
      "|     12365|      0.0|    0.0|291.0|               0.0|\n",
      "|     12367|      0.0|    0.0|  4.0|               0.0|\n",
      "+----------+---------+-------+-----+------------------+\n",
      "only showing top 20 rows\n",
      "\n"
     ]
    }
   ],
   "source": [
    "btyd_spark.show()"
   ]
  },
  {
   "cell_type": "code",
   "execution_count": 72,
   "id": "13425692-8c1d-4b31-931e-4be9678ecc8e",
   "metadata": {},
   "outputs": [],
   "source": [
    "import btyd"
   ]
  },
  {
   "cell_type": "code",
   "execution_count": 73,
   "id": "346607ed-d9a4-4704-a0b5-a0e6b75070c3",
   "metadata": {},
   "outputs": [],
   "source": [
    "latest_date = clean_df['InvoiceDate'].max()"
   ]
  },
  {
   "cell_type": "code",
   "execution_count": 74,
   "id": "9df8cc4d-0c3b-44f6-81e9-b24b62136896",
   "metadata": {},
   "outputs": [],
   "source": [
    "btyd_lib = (\n",
    "    btyd.utils.summary_data_from_transaction_data(\n",
    "        clean_df,\n",
    "        customer_id_col='CustomerID',\n",
    "        datetime_col='InvoiceDate',\n",
    "        observation_period_end = latest_date, \n",
    "        freq='D',\n",
    "        monetary_value_col='SalesAmount'\n",
    "    )\n",
    ")"
   ]
  },
  {
   "cell_type": "code",
   "execution_count": 75,
   "id": "1fb2a69a-51dc-4851-9b0e-07e57e5aa62b",
   "metadata": {},
   "outputs": [
    {
     "data": {
      "text/html": [
       "<div>\n",
       "<style scoped>\n",
       "    .dataframe tbody tr th:only-of-type {\n",
       "        vertical-align: middle;\n",
       "    }\n",
       "\n",
       "    .dataframe tbody tr th {\n",
       "        vertical-align: top;\n",
       "    }\n",
       "\n",
       "    .dataframe thead th {\n",
       "        text-align: right;\n",
       "    }\n",
       "</style>\n",
       "<table border=\"1\" class=\"dataframe\">\n",
       "  <thead>\n",
       "    <tr style=\"text-align: right;\">\n",
       "      <th></th>\n",
       "      <th>frequency</th>\n",
       "      <th>recency</th>\n",
       "      <th>T</th>\n",
       "      <th>monetary_value</th>\n",
       "    </tr>\n",
       "    <tr>\n",
       "      <th>CustomerID</th>\n",
       "      <th></th>\n",
       "      <th></th>\n",
       "      <th></th>\n",
       "      <th></th>\n",
       "    </tr>\n",
       "  </thead>\n",
       "  <tbody>\n",
       "    <tr>\n",
       "      <th>12347</th>\n",
       "      <td>6.0</td>\n",
       "      <td>365.0</td>\n",
       "      <td>367.0</td>\n",
       "      <td>599.701667</td>\n",
       "    </tr>\n",
       "    <tr>\n",
       "      <th>12348</th>\n",
       "      <td>3.0</td>\n",
       "      <td>283.0</td>\n",
       "      <td>358.0</td>\n",
       "      <td>301.480000</td>\n",
       "    </tr>\n",
       "    <tr>\n",
       "      <th>12349</th>\n",
       "      <td>0.0</td>\n",
       "      <td>0.0</td>\n",
       "      <td>18.0</td>\n",
       "      <td>0.000000</td>\n",
       "    </tr>\n",
       "    <tr>\n",
       "      <th>12350</th>\n",
       "      <td>0.0</td>\n",
       "      <td>0.0</td>\n",
       "      <td>310.0</td>\n",
       "      <td>0.000000</td>\n",
       "    </tr>\n",
       "    <tr>\n",
       "      <th>12352</th>\n",
       "      <td>6.0</td>\n",
       "      <td>260.0</td>\n",
       "      <td>296.0</td>\n",
       "      <td>208.151667</td>\n",
       "    </tr>\n",
       "    <tr>\n",
       "      <th>...</th>\n",
       "      <td>...</td>\n",
       "      <td>...</td>\n",
       "      <td>...</td>\n",
       "      <td>...</td>\n",
       "    </tr>\n",
       "    <tr>\n",
       "      <th>18280</th>\n",
       "      <td>0.0</td>\n",
       "      <td>0.0</td>\n",
       "      <td>277.0</td>\n",
       "      <td>0.000000</td>\n",
       "    </tr>\n",
       "    <tr>\n",
       "      <th>18281</th>\n",
       "      <td>0.0</td>\n",
       "      <td>0.0</td>\n",
       "      <td>180.0</td>\n",
       "      <td>0.000000</td>\n",
       "    </tr>\n",
       "    <tr>\n",
       "      <th>18282</th>\n",
       "      <td>2.0</td>\n",
       "      <td>119.0</td>\n",
       "      <td>126.0</td>\n",
       "      <td>38.195000</td>\n",
       "    </tr>\n",
       "    <tr>\n",
       "      <th>18283</th>\n",
       "      <td>13.0</td>\n",
       "      <td>334.0</td>\n",
       "      <td>337.0</td>\n",
       "      <td>152.802308</td>\n",
       "    </tr>\n",
       "    <tr>\n",
       "      <th>18287</th>\n",
       "      <td>2.0</td>\n",
       "      <td>159.0</td>\n",
       "      <td>201.0</td>\n",
       "      <td>536.000000</td>\n",
       "    </tr>\n",
       "  </tbody>\n",
       "</table>\n",
       "<p>4370 rows × 4 columns</p>\n",
       "</div>"
      ],
      "text/plain": [
       "            frequency  recency      T  monetary_value\n",
       "CustomerID                                           \n",
       "12347             6.0    365.0  367.0      599.701667\n",
       "12348             3.0    283.0  358.0      301.480000\n",
       "12349             0.0      0.0   18.0        0.000000\n",
       "12350             0.0      0.0  310.0        0.000000\n",
       "12352             6.0    260.0  296.0      208.151667\n",
       "...               ...      ...    ...             ...\n",
       "18280             0.0      0.0  277.0        0.000000\n",
       "18281             0.0      0.0  180.0        0.000000\n",
       "18282             2.0    119.0  126.0       38.195000\n",
       "18283            13.0    334.0  337.0      152.802308\n",
       "18287             2.0    159.0  201.0      536.000000\n",
       "\n",
       "[4370 rows x 4 columns]"
      ]
     },
     "execution_count": 75,
     "metadata": {},
     "output_type": "execute_result"
    }
   ],
   "source": [
    "btyd_lib"
   ]
  },
  {
   "cell_type": "code",
   "execution_count": 76,
   "id": "5e76fa0e-c4cf-4c2a-b609-9c780a423c79",
   "metadata": {},
   "outputs": [
    {
     "data": {
      "text/html": [
       "<div>\n",
       "<style scoped>\n",
       "    .dataframe tbody tr th:only-of-type {\n",
       "        vertical-align: middle;\n",
       "    }\n",
       "\n",
       "    .dataframe tbody tr th {\n",
       "        vertical-align: top;\n",
       "    }\n",
       "\n",
       "    .dataframe thead th {\n",
       "        text-align: right;\n",
       "    }\n",
       "</style>\n",
       "<table border=\"1\" class=\"dataframe\">\n",
       "  <thead>\n",
       "    <tr style=\"text-align: right;\">\n",
       "      <th></th>\n",
       "      <th>frequency</th>\n",
       "      <th>recency</th>\n",
       "      <th>T</th>\n",
       "      <th>monetary_value</th>\n",
       "    </tr>\n",
       "  </thead>\n",
       "  <tbody>\n",
       "    <tr>\n",
       "      <th>count</th>\n",
       "      <td>4370.000000</td>\n",
       "      <td>4370.000000</td>\n",
       "      <td>4370.000000</td>\n",
       "      <td>4370.000000</td>\n",
       "    </tr>\n",
       "    <tr>\n",
       "      <th>mean</th>\n",
       "      <td>3.414874</td>\n",
       "      <td>133.737300</td>\n",
       "      <td>225.286041</td>\n",
       "      <td>213.351915</td>\n",
       "    </tr>\n",
       "    <tr>\n",
       "      <th>std</th>\n",
       "      <td>6.675571</td>\n",
       "      <td>133.011156</td>\n",
       "      <td>118.401254</td>\n",
       "      <td>372.867610</td>\n",
       "    </tr>\n",
       "    <tr>\n",
       "      <th>min</th>\n",
       "      <td>0.000000</td>\n",
       "      <td>0.000000</td>\n",
       "      <td>0.000000</td>\n",
       "      <td>-3528.340000</td>\n",
       "    </tr>\n",
       "    <tr>\n",
       "      <th>25%</th>\n",
       "      <td>0.000000</td>\n",
       "      <td>0.000000</td>\n",
       "      <td>115.000000</td>\n",
       "      <td>0.000000</td>\n",
       "    </tr>\n",
       "    <tr>\n",
       "      <th>50%</th>\n",
       "      <td>1.000000</td>\n",
       "      <td>98.000000</td>\n",
       "      <td>253.000000</td>\n",
       "      <td>148.980000</td>\n",
       "    </tr>\n",
       "    <tr>\n",
       "      <th>75%</th>\n",
       "      <td>4.000000</td>\n",
       "      <td>256.000000</td>\n",
       "      <td>331.000000</td>\n",
       "      <td>304.947500</td>\n",
       "    </tr>\n",
       "    <tr>\n",
       "      <th>max</th>\n",
       "      <td>145.000000</td>\n",
       "      <td>373.000000</td>\n",
       "      <td>373.000000</td>\n",
       "      <td>8866.081538</td>\n",
       "    </tr>\n",
       "  </tbody>\n",
       "</table>\n",
       "</div>"
      ],
      "text/plain": [
       "         frequency      recency            T  monetary_value\n",
       "count  4370.000000  4370.000000  4370.000000     4370.000000\n",
       "mean      3.414874   133.737300   225.286041      213.351915\n",
       "std       6.675571   133.011156   118.401254      372.867610\n",
       "min       0.000000     0.000000     0.000000    -3528.340000\n",
       "25%       0.000000     0.000000   115.000000        0.000000\n",
       "50%       1.000000    98.000000   253.000000      148.980000\n",
       "75%       4.000000   256.000000   331.000000      304.947500\n",
       "max     145.000000   373.000000   373.000000     8866.081538"
      ]
     },
     "execution_count": 76,
     "metadata": {},
     "output_type": "execute_result"
    }
   ],
   "source": [
    "btyd_lib.describe()"
   ]
  },
  {
   "cell_type": "markdown",
   "id": "efc6655c-4be5-4519-8c9e-186129f31c37",
   "metadata": {},
   "source": [
    "To support model validation and avoid overfitting, a common pattern with time series data is to train models on an earlier portion of the time series (known as the calibration period) and validate against a later portion of the time series (known as the holdout period)"
   ]
  },
  {
   "cell_type": "code",
   "execution_count": 77,
   "id": "f225b8ec-2f7d-422d-9e34-527d16c27bcc",
   "metadata": {},
   "outputs": [],
   "source": [
    "holdout_days = 90"
   ]
  },
  {
   "cell_type": "code",
   "execution_count": 78,
   "id": "39702d5f-6284-4bda-bffb-1c37f0ba3da6",
   "metadata": {},
   "outputs": [],
   "source": [
    "ccm = (\n",
    "    customer_transaction_per_date.crossJoin(latest_transaction_date)\n",
    "    .join(customer_first_transaction_date, on=\"customerid\", how=\"inner\")\n",
    "    .withColumn(\"duration_holdout\", fn.lit(holdout_days))\n",
    "    .selectExpr(\n",
    "        \"customerid\",\n",
    "        \"first_transaction_date\",\n",
    "        \"transaction_date\",\n",
    "        \"salesamount\",\n",
    "        \"latest_transaction_date\",\n",
    "        \"duration_holdout\",\n",
    "    )\n",
    "    .distinct()\n",
    ")"
   ]
  },
  {
   "cell_type": "code",
   "execution_count": 79,
   "id": "4ed2e6a2-8dd2-469c-be0f-9ea5cd9f4292",
   "metadata": {},
   "outputs": [],
   "source": [
    "ccm_cal = (\n",
    "    ccm.where(\n",
    "        ccm.transaction_date\n",
    "        < fn.expr(\"date_sub(latest_transaction_date, duration_holdout)\")\n",
    "    )\n",
    "    .groupBy(\n",
    "        ccm.customerid,\n",
    "        ccm.latest_transaction_date,\n",
    "        ccm.duration_holdout,\n",
    "        ccm.first_transaction_date,\n",
    "    )\n",
    "    .agg(\n",
    "        (fn.countDistinct(ccm.transaction_date) - 1)\n",
    "        .cast(FloatType())\n",
    "        .alias(\"frequency_cal\"),\n",
    "        fn.datediff(fn.max(ccm.transaction_date), ccm.first_transaction_date)\n",
    "        .cast(FloatType())\n",
    "        .alias(\"recency_cal\"),\n",
    "        fn.datediff(\n",
    "            fn.expr(\"date_sub(latest_transaction_date, duration_holdout)\"),\n",
    "            ccm.first_transaction_date,\n",
    "        )\n",
    "        .cast(FloatType())\n",
    "        .alias(\"T_cal\"),\n",
    "        fn.when(fn.countDistinct(ccm.transaction_date) == 1, 0)\n",
    "        .otherwise(\n",
    "            fn.sum(\n",
    "                fn.when(\n",
    "                    ccm.first_transaction_date == ccm.transaction_date, 0\n",
    "                ).otherwise(ccm.salesamount)\n",
    "            )\n",
    "            / (fn.countDistinct(ccm.transaction_date) - 1)\n",
    "        )\n",
    "        .alias(\"monetary_value_cal\"),\n",
    "    )\n",
    ")"
   ]
  },
  {
   "cell_type": "code",
   "execution_count": 80,
   "id": "6800ce47-9a34-48e2-b095-5f775a9dcd33",
   "metadata": {},
   "outputs": [],
   "source": [
    "ccm_holdout = (\n",
    "    ccm.where(\n",
    "        (\n",
    "            ccm.transaction_date\n",
    "            >= fn.expr(\"date_sub(latest_transaction_date, duration_holdout)\")\n",
    "        )\n",
    "        & (ccm.transaction_date <= ccm.latest_transaction_date)\n",
    "    )\n",
    "    .groupBy(ccm.customerid)\n",
    "    .agg(\n",
    "        fn.countDistinct(ccm.transaction_date)\n",
    "        .cast(FloatType())\n",
    "        .alias(\"frequency_holdout\"),\n",
    "        fn.avg(ccm.salesamount).alias(\"monetary_value_holdout\"),\n",
    "    )\n",
    ")\n"
   ]
  },
  {
   "cell_type": "code",
   "execution_count": 81,
   "id": "7cc8b624-0f9b-4730-b5ef-f134c038df45",
   "metadata": {},
   "outputs": [],
   "source": [
    "btyd_cal_spark = (\n",
    "    ccm_cal.join(ccm_holdout, on=\"customerid\", how=\"left\")\n",
    "    .select(\n",
    "        \"customerid\",\n",
    "        \"frequency_cal\",\n",
    "        \"recency_cal\",\n",
    "        \"T_cal\",\n",
    "        \"monetary_value_cal\",\n",
    "        fn.coalesce(ccm_holdout.frequency_holdout, fn.lit(0.0)).alias(\n",
    "            \"frequency_holdout\"\n",
    "        ),\n",
    "        fn.coalesce(ccm_holdout.monetary_value_holdout, fn.lit(0.0)).alias(\n",
    "            \"monetary_value_holdout\"\n",
    "        ),\n",
    "        \"duration_holdout\",\n",
    "    )\n",
    "    .orderBy(\"customerid\")\n",
    ")"
   ]
  },
  {
   "cell_type": "code",
   "execution_count": 87,
   "id": "979d5559-3d8d-406b-a34b-4e3182f6b1d2",
   "metadata": {},
   "outputs": [
    {
     "name": "stderr",
     "output_type": "stream",
     "text": [
      "                                                                                \r"
     ]
    },
    {
     "name": "stdout",
     "output_type": "stream",
     "text": [
      "+----------+-------------+-----------+-----+------------------+-----------------+----------------------+----------------+\n",
      "|customerid|frequency_cal|recency_cal|T_cal|monetary_value_cal|frequency_holdout|monetary_value_holdout|duration_holdout|\n",
      "+----------+-------------+-----------+-----+------------------+-----------------+----------------------+----------------+\n",
      "|     12346|          0.0|        0.0|235.0|               0.0|              0.0|                   0.0|              90|\n",
      "|     12347|          4.0|      238.0|277.0| 519.7674999999999|              2.0|                759.57|              90|\n",
      "|     12348|          2.0|      110.0|268.0|297.21999999999997|              1.0|                 310.0|              90|\n",
      "|     12350|          0.0|        0.0|220.0|               0.0|              0.0|                   0.0|              90|\n",
      "|     12352|          3.0|       34.0|206.0|101.55999999999999|              3.0|    314.74333333333334|              90|\n",
      "|     12353|          0.0|        0.0|114.0|               0.0|              0.0|                   0.0|              90|\n",
      "|     12354|          0.0|        0.0|142.0|               0.0|              0.0|                   0.0|              90|\n",
      "|     12355|          0.0|        0.0|124.0|               0.0|              0.0|                   0.0|              90|\n",
      "|     12356|          1.0|       80.0|235.0|            481.46|              1.0|    58.349999999999994|              90|\n",
      "|     12358|          0.0|        0.0| 60.0|               0.0|              1.0|                 683.2|              90|\n",
      "|     12359|          3.0|      142.0|241.0| 970.8100000000001|              2.0|                1392.8|              90|\n",
      "|     12360|          1.0|       88.0|110.0| 534.7000000000002|              1.0|    1043.7799999999997|              90|\n",
      "|     12361|          0.0|        0.0|197.0|               0.0|              0.0|                   0.0|              90|\n",
      "|     12362|          5.0|      183.0|205.0|            249.09|              7.0|     490.0042857142858|              90|\n",
      "|     12363|          1.0|      133.0|152.0|252.90000000000003|              0.0|                   0.0|              90|\n",
      "|     12364|          0.0|        0.0| 22.0|               0.0|              3.0|     229.7266666666666|              90|\n",
      "|     12365|          0.0|        0.0|201.0|               0.0|              0.0|                   0.0|              90|\n",
      "|     12370|          2.0|       86.0|270.0| 607.7950000000001|              1.0|                739.28|              90|\n",
      "|     12372|          1.0|       84.0|206.0|             515.7|              1.0|                383.12|              90|\n",
      "|     12373|          0.0|        0.0|221.0|               0.0|              0.0|                   0.0|              90|\n",
      "+----------+-------------+-----------+-----+------------------+-----------------+----------------------+----------------+\n",
      "only showing top 20 rows\n",
      "\n"
     ]
    }
   ],
   "source": [
    "btyd_cal_spark.show()"
   ]
  },
  {
   "cell_type": "code",
   "execution_count": 83,
   "id": "682f701a-2187-4a26-b8a2-08b482ba0022",
   "metadata": {},
   "outputs": [],
   "source": [
    "from datetime import timedelta"
   ]
  },
  {
   "cell_type": "code",
   "execution_count": 84,
   "id": "27345c7c-de69-4aa5-9973-a95c5bfbd8db",
   "metadata": {},
   "outputs": [],
   "source": [
    "calibration_end_date = latest_date - timedelta(days = holdout_days)"
   ]
  },
  {
   "cell_type": "code",
   "execution_count": 85,
   "id": "be14e4d5-a375-4cb8-a3e6-172dd85e36bd",
   "metadata": {},
   "outputs": [],
   "source": [
    "btyd_cal_lib = (\n",
    "  btyd.utils.calibration_and_holdout_data(\n",
    "      clean_df,\n",
    "      customer_id_col='CustomerID',\n",
    "      datetime_col='InvoiceDate',\n",
    "      observation_period_end=latest_date,\n",
    "      calibration_period_end=calibration_end_date,\n",
    "      freq='D',\n",
    "      monetary_value_col='SalesAmount'\n",
    "  )\n",
    ")"
   ]
  },
  {
   "cell_type": "code",
   "execution_count": 86,
   "id": "c909e31b-8d28-4800-aeba-f79f0af3506e",
   "metadata": {},
   "outputs": [
    {
     "data": {
      "text/html": [
       "<div>\n",
       "<style scoped>\n",
       "    .dataframe tbody tr th:only-of-type {\n",
       "        vertical-align: middle;\n",
       "    }\n",
       "\n",
       "    .dataframe tbody tr th {\n",
       "        vertical-align: top;\n",
       "    }\n",
       "\n",
       "    .dataframe thead th {\n",
       "        text-align: right;\n",
       "    }\n",
       "</style>\n",
       "<table border=\"1\" class=\"dataframe\">\n",
       "  <thead>\n",
       "    <tr style=\"text-align: right;\">\n",
       "      <th></th>\n",
       "      <th>frequency_cal</th>\n",
       "      <th>recency_cal</th>\n",
       "      <th>T_cal</th>\n",
       "      <th>monetary_value_cal</th>\n",
       "      <th>frequency_holdout</th>\n",
       "      <th>monetary_value_holdout</th>\n",
       "      <th>duration_holdout</th>\n",
       "    </tr>\n",
       "    <tr>\n",
       "      <th>CustomerID</th>\n",
       "      <th></th>\n",
       "      <th></th>\n",
       "      <th></th>\n",
       "      <th></th>\n",
       "      <th></th>\n",
       "      <th></th>\n",
       "      <th></th>\n",
       "    </tr>\n",
       "  </thead>\n",
       "  <tbody>\n",
       "    <tr>\n",
       "      <th>12347</th>\n",
       "      <td>4.0</td>\n",
       "      <td>238.0</td>\n",
       "      <td>277.0</td>\n",
       "      <td>519.7675</td>\n",
       "      <td>2.0</td>\n",
       "      <td>26.192069</td>\n",
       "      <td>90.0</td>\n",
       "    </tr>\n",
       "    <tr>\n",
       "      <th>12348</th>\n",
       "      <td>2.0</td>\n",
       "      <td>110.0</td>\n",
       "      <td>268.0</td>\n",
       "      <td>297.2200</td>\n",
       "      <td>1.0</td>\n",
       "      <td>103.333333</td>\n",
       "      <td>90.0</td>\n",
       "    </tr>\n",
       "    <tr>\n",
       "      <th>12350</th>\n",
       "      <td>0.0</td>\n",
       "      <td>0.0</td>\n",
       "      <td>220.0</td>\n",
       "      <td>0.0000</td>\n",
       "      <td>0.0</td>\n",
       "      <td>0.000000</td>\n",
       "      <td>90.0</td>\n",
       "    </tr>\n",
       "    <tr>\n",
       "      <th>12352</th>\n",
       "      <td>3.0</td>\n",
       "      <td>34.0</td>\n",
       "      <td>206.0</td>\n",
       "      <td>101.5600</td>\n",
       "      <td>3.0</td>\n",
       "      <td>20.090000</td>\n",
       "      <td>90.0</td>\n",
       "    </tr>\n",
       "    <tr>\n",
       "      <th>12353</th>\n",
       "      <td>0.0</td>\n",
       "      <td>0.0</td>\n",
       "      <td>114.0</td>\n",
       "      <td>0.0000</td>\n",
       "      <td>0.0</td>\n",
       "      <td>0.000000</td>\n",
       "      <td>90.0</td>\n",
       "    </tr>\n",
       "    <tr>\n",
       "      <th>...</th>\n",
       "      <td>...</td>\n",
       "      <td>...</td>\n",
       "      <td>...</td>\n",
       "      <td>...</td>\n",
       "      <td>...</td>\n",
       "      <td>...</td>\n",
       "      <td>...</td>\n",
       "    </tr>\n",
       "    <tr>\n",
       "      <th>18280</th>\n",
       "      <td>0.0</td>\n",
       "      <td>0.0</td>\n",
       "      <td>187.0</td>\n",
       "      <td>0.0000</td>\n",
       "      <td>0.0</td>\n",
       "      <td>0.000000</td>\n",
       "      <td>90.0</td>\n",
       "    </tr>\n",
       "    <tr>\n",
       "      <th>18281</th>\n",
       "      <td>0.0</td>\n",
       "      <td>0.0</td>\n",
       "      <td>90.0</td>\n",
       "      <td>0.0000</td>\n",
       "      <td>0.0</td>\n",
       "      <td>0.000000</td>\n",
       "      <td>90.0</td>\n",
       "    </tr>\n",
       "    <tr>\n",
       "      <th>18282</th>\n",
       "      <td>1.0</td>\n",
       "      <td>4.0</td>\n",
       "      <td>36.0</td>\n",
       "      <td>-1.4500</td>\n",
       "      <td>1.0</td>\n",
       "      <td>15.568000</td>\n",
       "      <td>90.0</td>\n",
       "    </tr>\n",
       "    <tr>\n",
       "      <th>18283</th>\n",
       "      <td>8.0</td>\n",
       "      <td>242.0</td>\n",
       "      <td>247.0</td>\n",
       "      <td>126.5275</td>\n",
       "      <td>5.0</td>\n",
       "      <td>3.152783</td>\n",
       "      <td>90.0</td>\n",
       "    </tr>\n",
       "    <tr>\n",
       "      <th>18287</th>\n",
       "      <td>0.0</td>\n",
       "      <td>0.0</td>\n",
       "      <td>111.0</td>\n",
       "      <td>0.0000</td>\n",
       "      <td>2.0</td>\n",
       "      <td>26.146341</td>\n",
       "      <td>90.0</td>\n",
       "    </tr>\n",
       "  </tbody>\n",
       "</table>\n",
       "<p>3410 rows × 7 columns</p>\n",
       "</div>"
      ],
      "text/plain": [
       "            frequency_cal  recency_cal  T_cal  monetary_value_cal  \\\n",
       "CustomerID                                                          \n",
       "12347                 4.0        238.0  277.0            519.7675   \n",
       "12348                 2.0        110.0  268.0            297.2200   \n",
       "12350                 0.0          0.0  220.0              0.0000   \n",
       "12352                 3.0         34.0  206.0            101.5600   \n",
       "12353                 0.0          0.0  114.0              0.0000   \n",
       "...                   ...          ...    ...                 ...   \n",
       "18280                 0.0          0.0  187.0              0.0000   \n",
       "18281                 0.0          0.0   90.0              0.0000   \n",
       "18282                 1.0          4.0   36.0             -1.4500   \n",
       "18283                 8.0        242.0  247.0            126.5275   \n",
       "18287                 0.0          0.0  111.0              0.0000   \n",
       "\n",
       "            frequency_holdout  monetary_value_holdout  duration_holdout  \n",
       "CustomerID                                                               \n",
       "12347                     2.0               26.192069              90.0  \n",
       "12348                     1.0              103.333333              90.0  \n",
       "12350                     0.0                0.000000              90.0  \n",
       "12352                     3.0               20.090000              90.0  \n",
       "12353                     0.0                0.000000              90.0  \n",
       "...                       ...                     ...               ...  \n",
       "18280                     0.0                0.000000              90.0  \n",
       "18281                     0.0                0.000000              90.0  \n",
       "18282                     1.0               15.568000              90.0  \n",
       "18283                     5.0                3.152783              90.0  \n",
       "18287                     2.0               26.146341              90.0  \n",
       "\n",
       "[3410 rows x 7 columns]"
      ]
     },
     "execution_count": 86,
     "metadata": {},
     "output_type": "execute_result"
    }
   ],
   "source": [
    "btyd_cal_lib"
   ]
  },
  {
   "cell_type": "markdown",
   "id": "a141f987-b9fd-469c-8d78-29d7699fb82b",
   "metadata": {},
   "source": [
    "#### Remove Customers with No Repeat Purchases"
   ]
  },
  {
   "cell_type": "code",
   "execution_count": 97,
   "id": "7a27dcb0-b086-4b50-a45a-5027f351782a",
   "metadata": {},
   "outputs": [],
   "source": [
    "filtered_btyd_spark = btyd_spark.where(btyd_spark.frequency > 0)"
   ]
  },
  {
   "cell_type": "code",
   "execution_count": 98,
   "id": "0c31065e-f49a-404e-a0fa-314418d62462",
   "metadata": {},
   "outputs": [],
   "source": [
    "filtered_btyd_cal_spark = btyd_cal_spark.where(btyd_cal_spark.frequency_cal > 0)"
   ]
  },
  {
   "cell_type": "markdown",
   "id": "7918f3af-eab8-462f-a21b-a759fd9c7335",
   "metadata": {},
   "source": [
    "#### Remove Problematic Records (Negative Value)"
   ]
  },
  {
   "cell_type": "code",
   "execution_count": 99,
   "id": "05767723-5e43-4305-9779-81849d16dc2e",
   "metadata": {},
   "outputs": [],
   "source": [
    "filtered_btyd_spark = filtered_btyd_spark.where(filtered_btyd_spark.monetary_value > 0)"
   ]
  },
  {
   "cell_type": "code",
   "execution_count": 100,
   "id": "f14e37c5-c4b1-4d08-abe4-9ea052a474a9",
   "metadata": {},
   "outputs": [],
   "source": [
    "filtered_btyd_cal_spark = filtered_btyd_cal_spark.where(filtered_btyd_cal_spark.monetary_value_cal > 0)"
   ]
  },
  {
   "cell_type": "markdown",
   "id": "90c4e269-e06a-40c9-a80d-5252edae86c1",
   "metadata": {
    "tags": []
   },
   "source": [
    "### Modelling & Evaluation"
   ]
  },
  {
   "cell_type": "markdown",
   "id": "e860d78a-290d-4645-b402-c81a7aa1cbfc",
   "metadata": {
    "jp-MarkdownHeadingCollapsed": true,
    "tags": []
   },
   "source": [
    "#### Customer Engagement Probability Model"
   ]
  },
  {
   "cell_type": "markdown",
   "id": "ced94214-a7c1-4399-88a6-c852be6a75ba",
   "metadata": {},
   "source": [
    "By recognizing that customer retention degrades over time, we can estimate where in a declining distribution a given customer resides and estimate a probability that the customer will stick around until the period into which we are projecting"
   ]
  },
  {
   "cell_type": "markdown",
   "id": "1ff355d3-8d81-47b8-8934-39033eeb04c4",
   "metadata": {},
   "source": [
    "**Beta-Geometric/Negative Binomial Distribution or BetaGeo model**\n",
    "\n",
    "The BetaGeo model provides us with the ability to predict a customer's retention into a future period."
   ]
  },
  {
   "cell_type": "code",
   "execution_count": 103,
   "id": "dd9c8387-22b1-48bf-a8a4-da252acd797d",
   "metadata": {},
   "outputs": [
    {
     "name": "stderr",
     "output_type": "stream",
     "text": [
      "                                                                                \r"
     ]
    }
   ],
   "source": [
    "input_df = filtered_btyd_cal_spark.toPandas()"
   ]
  },
  {
   "cell_type": "code",
   "execution_count": 108,
   "id": "b8b7e4a1-f9eb-4a4c-b5f7-0eef20681b34",
   "metadata": {},
   "outputs": [],
   "source": [
    "from btyd.fitters.beta_geo_fitter import BetaGeoFitter"
   ]
  },
  {
   "cell_type": "code",
   "execution_count": 111,
   "id": "44ec8bec-5666-48d0-8516-bd0558885ae7",
   "metadata": {},
   "outputs": [],
   "source": [
    "summary = input_df.groupby([\"frequency_cal\", \"recency_cal\", \"T_cal\"]).size().reset_index()"
   ]
  },
  {
   "cell_type": "code",
   "execution_count": 110,
   "id": "ce1f9d9a-bb06-4019-892d-9f8c1533c85b",
   "metadata": {},
   "outputs": [],
   "source": [
    "bgf_engagement = BetaGeoFitter(penalizer_coef=1.0)"
   ]
  },
  {
   "cell_type": "code",
   "execution_count": 112,
   "id": "45a89e9d-ddca-4833-bf40-6cc0dd5f0c14",
   "metadata": {},
   "outputs": [
    {
     "data": {
      "text/plain": [
       "<btyd.BetaGeoFitter: fitted with 1942 subjects, a: 2.7640875113894622e-17, alpha: 20.730767627480112, b: 6.134211348795846e-08, r: 0.4528901743856142>"
      ]
     },
     "execution_count": 112,
     "metadata": {},
     "output_type": "execute_result"
    }
   ],
   "source": [
    "bgf_engagement.fit(\n",
    "    summary[\"frequency_cal\"],\n",
    "    summary[\"recency_cal\"],\n",
    "    summary[\"T_cal\"],\n",
    ")"
   ]
  },
  {
   "cell_type": "markdown",
   "id": "ec5d7c64-cc2a-4fdb-8da5-191dc693d2cf",
   "metadata": {},
   "source": [
    "**Estimate Purchases in Holdout Period**"
   ]
  },
  {
   "cell_type": "code",
   "execution_count": 113,
   "id": "7bc39d2b-cb9b-429d-8656-64fceb6791f6",
   "metadata": {},
   "outputs": [],
   "source": [
    "frequency_holdout_actual = input_df['frequency_holdout']"
   ]
  },
  {
   "cell_type": "code",
   "execution_count": 120,
   "id": "11d3626a-7e42-472d-88fe-eabdbeba47df",
   "metadata": {},
   "outputs": [],
   "source": [
    "frequency_holdout_predicted = bgf_engagement.conditional_expected_number_of_purchases_up_to_time(\n",
    "    input_df['duration_holdout'],\n",
    "    input_df['frequency_cal'],\n",
    "    input_df['recency_cal'],\n",
    "    input_df['T_cal']\n",
    ")"
   ]
  },
  {
   "cell_type": "markdown",
   "id": "03e10989-c45c-42d8-b8a7-2e8714b68fa1",
   "metadata": {},
   "source": [
    "**Model Evaluation (RMSE)**"
   ]
  },
  {
   "cell_type": "code",
   "execution_count": 122,
   "id": "d91953e6-a94d-44e9-aa34-06429971cd84",
   "metadata": {},
   "outputs": [],
   "source": [
    "from sklearn.metrics import mean_squared_error"
   ]
  },
  {
   "cell_type": "code",
   "execution_count": 127,
   "id": "c59ebfe4-2613-40e0-8f36-872a77ecf55d",
   "metadata": {},
   "outputs": [
    {
     "data": {
      "text/plain": [
       "1.9434637029358743"
      ]
     },
     "execution_count": 127,
     "metadata": {},
     "output_type": "execute_result"
    }
   ],
   "source": [
    "mean_squared_error(frequency_holdout_actual, frequency_holdout_predicted, squared=False)"
   ]
  },
  {
   "cell_type": "markdown",
   "id": "1ff3e18f-8dbf-40c9-a8da-cd1b7ff3b0c6",
   "metadata": {},
   "source": [
    "**Visualize Predicted vs. Actual Purchases in Holdout Period**\n",
    "\n",
    "Examine how purchase frequencies in the calibration period relates to actual (frequency holdout) and predicted (model predictions) frequencies in the holdout period"
   ]
  },
  {
   "cell_type": "code",
   "execution_count": 128,
   "id": "37face3e-2842-4ae1-8492-41b78eb5d4ba",
   "metadata": {},
   "outputs": [],
   "source": [
    "from btyd.plotting import plot_calibration_purchases_vs_holdout_purchases"
   ]
  },
  {
   "cell_type": "code",
   "execution_count": 134,
   "id": "d3eb70fa-28e3-4652-b1a0-41cda58e2deb",
   "metadata": {},
   "outputs": [
    {
     "data": {
      "image/png": "[encoded data removed]",
      "text/plain": [
       "<Figure size 640x480 with 1 Axes>"
      ]
     },
     "metadata": {},
     "output_type": "display_data"
    }
   ],
   "source": [
    "_ = plot_calibration_purchases_vs_holdout_purchases(\n",
    "  bgf_engagement, \n",
    "  input_df, \n",
    "  n=holdout_days,\n",
    ")"
   ]
  },
  {
   "cell_type": "markdown",
   "id": "2ce306fd-e8e5-480a-8484-61ee8b4c005a",
   "metadata": {},
   "source": [
    "For low-frequency customers, the correlation is reliable, but for high-frequency ones, the model tends to be conservative, underestimating purchases. This may be influenced by a 90-day holdout ending on Dec 9, coinciding with the peak holiday shopping season when most consumers make more purchases. Using multi-year data for a more balanced holdout period is preferable."
   ]
  },
  {
   "cell_type": "code",
   "execution_count": 135,
   "id": "2f3752df-5d52-4d6e-bc0e-e7bea426a3f9",
   "metadata": {},
   "outputs": [
    {
     "data": {
      "image/png": "[encoded data removed]",
      "text/plain": [
       "<Figure size 640x480 with 1 Axes>"
      ]
     },
     "metadata": {},
     "output_type": "display_data"
    }
   ],
   "source": [
    "_ = plot_calibration_purchases_vs_holdout_purchases(\n",
    "  bgf_engagement, \n",
    "  input_df,\n",
    "  kind='time_since_last_purchase', \n",
    "  n=holdout_days,\n",
    ")"
   ]
  },
  {
   "cell_type": "code",
   "execution_count": 136,
   "id": "93c99563-6255-408d-91b6-27bc96869f75",
   "metadata": {},
   "outputs": [
    {
     "data": {
      "image/png": "[encoded data removed]",
      "text/plain": [
       "<Figure size 640x480 with 1 Axes>"
      ]
     },
     "metadata": {},
     "output_type": "display_data"
    }
   ],
   "source": [
    "_ = plot_calibration_purchases_vs_holdout_purchases(\n",
    "  bgf_engagement, \n",
    "  input_df, \n",
    "  kind='recency_cal', \n",
    "  n=300,\n",
    ")"
   ]
  },
  {
   "cell_type": "code",
   "execution_count": 137,
   "id": "1e549f94-5a4c-4797-98af-68c30d5b988b",
   "metadata": {},
   "outputs": [],
   "source": [
    "from btyd.plotting import plot_probability_alive_matrix"
   ]
  },
  {
   "cell_type": "code",
   "execution_count": 139,
   "id": "7944a8c7-1711-4d4c-9272-42a073ee77b1",
   "metadata": {},
   "outputs": [
    {
     "data": {
      "image/png": "[encoded data removed]",
      "text/plain": [
       "<Figure size 640x480 with 2 Axes>"
      ]
     },
     "metadata": {},
     "output_type": "display_data"
    }
   ],
   "source": [
    "_ = plot_probability_alive_matrix(bgf_engagement)"
   ]
  },
  {
   "cell_type": "code",
   "execution_count": 140,
   "id": "281f958a-0fa8-424a-a1de-4dfb38ad1587",
   "metadata": {},
   "outputs": [],
   "source": [
    "from btyd.plotting import plot_frequency_recency_matrix"
   ]
  },
  {
   "cell_type": "code",
   "execution_count": 142,
   "id": "03432194-36f3-4acf-9eef-d83cbc28d8d3",
   "metadata": {},
   "outputs": [
    {
     "data": {
      "image/png": "[encoded data removed]",
      "text/plain": [
       "<Figure size 640x480 with 2 Axes>"
      ]
     },
     "metadata": {},
     "output_type": "display_data"
    }
   ],
   "source": [
    "_ = plot_frequency_recency_matrix(bgf_engagement, T=30) "
   ]
  },
  {
   "cell_type": "markdown",
   "id": "c6e4d572-8a13-4dad-b69e-b20a4168899c",
   "metadata": {
    "jp-MarkdownHeadingCollapsed": true,
    "tags": []
   },
   "source": [
    "#### Customer Spend Model"
   ]
  },
  {
   "cell_type": "markdown",
   "id": "b7a6cfbb-8493-41bb-95ee-625e522210ee",
   "metadata": {},
   "source": [
    "**The GammaGamma model** (named for the two gamma distributions is estimates) is used to estimate the monetary value of the spend in those periods. \n",
    "\n",
    "A key assumption of the GammaGamma model is that a customer's purchase frequency does not affect the monetary value of their spend."
   ]
  },
  {
   "cell_type": "code",
   "execution_count": 143,
   "id": "e0a2b91b-9aa2-4563-91d5-6db717a140da",
   "metadata": {},
   "outputs": [
    {
     "name": "stderr",
     "output_type": "stream",
     "text": [
      "                                                                                \r"
     ]
    },
    {
     "data": {
      "text/plain": [
       "0.35951871283053255"
      ]
     },
     "execution_count": 143,
     "metadata": {},
     "output_type": "execute_result"
    }
   ],
   "source": [
    "btyd_spark.corr('frequency', 'monetary_value')"
   ]
  },
  {
   "cell_type": "code",
   "execution_count": 144,
   "id": "053a9481-ee58-4839-8078-9ba566d55177",
   "metadata": {},
   "outputs": [],
   "source": [
    "from btyd import GammaGammaFitter"
   ]
  },
  {
   "cell_type": "code",
   "execution_count": 150,
   "id": "aac71e2c-7fd0-41d9-a51b-d5cd2b76ea48",
   "metadata": {},
   "outputs": [],
   "source": [
    "ggf_spend = GammaGammaFitter(penalizer_coef=0.002)"
   ]
  },
  {
   "cell_type": "code",
   "execution_count": 151,
   "id": "5fa8d572-e868-48d7-8c15-6b245c8e0e6c",
   "metadata": {},
   "outputs": [
    {
     "data": {
      "text/plain": [
       "<btyd.GammaGammaFitter: fitted with 1966 subjects, p: 5.485842430190582, q: 0.5669519692225239, v: 8.469503788109085>"
      ]
     },
     "execution_count": 151,
     "metadata": {},
     "output_type": "execute_result"
    }
   ],
   "source": [
    "ggf_spend.fit(\n",
    "    input_df['frequency_cal'],\n",
    "    input_df['monetary_value_cal']\n",
    ")"
   ]
  },
  {
   "cell_type": "markdown",
   "id": "fa50a338-ac64-45b0-996f-69a05552c32a",
   "metadata": {},
   "source": [
    "**Evaluate Model (RMSE)**"
   ]
  },
  {
   "cell_type": "code",
   "execution_count": 152,
   "id": "3f0dc5f0-7733-4a58-b15c-5d9da7565dc1",
   "metadata": {},
   "outputs": [],
   "source": [
    "monetary_actual = input_df['monetary_value_holdout']"
   ]
  },
  {
   "cell_type": "code",
   "execution_count": 153,
   "id": "ef878fb7-8475-4a97-a2e5-67d7529c37ed",
   "metadata": {},
   "outputs": [],
   "source": [
    "monetary_predicted = ggf_spend.conditional_expected_average_profit(\n",
    "    input_df['frequency_holdout'],\n",
    "    input_df['monetary_value_holdout']\n",
    ")"
   ]
  },
  {
   "cell_type": "code",
   "execution_count": 154,
   "id": "ce4a2bf7-36dc-4a74-9216-739c7bd038cc",
   "metadata": {},
   "outputs": [
    {
     "data": {
      "text/plain": [
       "64.90250300279024"
      ]
     },
     "execution_count": 154,
     "metadata": {},
     "output_type": "execute_result"
    }
   ],
   "source": [
    "mean_squared_error(monetary_actual, monetary_predicted, squared=False)"
   ]
  },
  {
   "cell_type": "markdown",
   "id": "73a3ac45-04a3-4788-97a6-8f9b719a99c7",
   "metadata": {},
   "source": [
    "**Visualize Histograms for Actual & Predicted Spend**"
   ]
  },
  {
   "cell_type": "code",
   "execution_count": 179,
   "id": "a946e91c-a91b-4154-962c-aaf8dcfea4ee",
   "metadata": {},
   "outputs": [
    {
     "data": {
      "image/png": "[encoded data removed]",
      "text/plain": [
       "<Figure size 640x480 with 1 Axes>"
      ]
     },
     "metadata": {},
     "output_type": "display_data"
    }
   ],
   "source": [
    "_ = plt.hist(monetary_actual, label='actual', bins=40, alpha=0.5)\n",
    "_ = plt.hist(monetary_predicted, label='predict', histtype='step', bins=40, alpha=1)\n",
    "_ = plt.legend(loc='upper right')"
   ]
  },
  {
   "cell_type": "markdown",
   "id": "72150453-446b-4080-a56b-576c8656749c",
   "metadata": {
    "jp-MarkdownHeadingCollapsed": true,
    "tags": []
   },
   "source": [
    "#### Customer Lifetime Value"
   ]
  },
  {
   "cell_type": "markdown",
   "id": "8d5a6c8a-b928-4e78-bf7a-4189204e786c",
   "metadata": {},
   "source": [
    "Metric that indicates the total revenue a business can reasonably expect from a single customer account throughout the business relationship."
   ]
  },
  {
   "cell_type": "code",
   "execution_count": 183,
   "id": "dd046ae7-9634-447c-83a3-8d74c9eadc97",
   "metadata": {},
   "outputs": [],
   "source": [
    "clv_df = filtered_btyd_spark.toPandas()"
   ]
  },
  {
   "cell_type": "code",
   "execution_count": 184,
   "id": "8746075c-1bea-4949-b79f-ef9539654d04",
   "metadata": {},
   "outputs": [],
   "source": [
    "clv_df['clv'] = (\n",
    "  ggf_spend.customer_lifetime_value(\n",
    "      bgf_engagement,\n",
    "      clv_df['frequency'],\n",
    "      clv_df['recency'],\n",
    "      clv_df['T'],\n",
    "      clv_df['monetary_value'],\n",
    "      time=12, # months\n",
    "      discount_rate=0.01 # monthly discount rate ~ 12.7% annually\n",
    "  )\n",
    ")"
   ]
  },
  {
   "cell_type": "code",
   "execution_count": 188,
   "id": "b0af65e0-df8f-4a20-b77e-9ff090eab144",
   "metadata": {},
   "outputs": [
    {
     "data": {
      "text/html": [
       "<div>\n",
       "<style scoped>\n",
       "    .dataframe tbody tr th:only-of-type {\n",
       "        vertical-align: middle;\n",
       "    }\n",
       "\n",
       "    .dataframe tbody tr th {\n",
       "        vertical-align: top;\n",
       "    }\n",
       "\n",
       "    .dataframe thead th {\n",
       "        text-align: right;\n",
       "    }\n",
       "</style>\n",
       "<table border=\"1\" class=\"dataframe\">\n",
       "  <thead>\n",
       "    <tr style=\"text-align: right;\">\n",
       "      <th></th>\n",
       "      <th>customerid</th>\n",
       "      <th>frequency</th>\n",
       "      <th>recency</th>\n",
       "      <th>T</th>\n",
       "      <th>monetary_value</th>\n",
       "      <th>clv</th>\n",
       "    </tr>\n",
       "  </thead>\n",
       "  <tbody>\n",
       "    <tr>\n",
       "      <th>2796</th>\n",
       "      <td>NaN</td>\n",
       "      <td>276.0</td>\n",
       "      <td>373.0</td>\n",
       "      <td>373.0</td>\n",
       "      <td>5199.629783</td>\n",
       "      <td>1.233074e+06</td>\n",
       "    </tr>\n",
       "    <tr>\n",
       "      <th>1111</th>\n",
       "      <td>14646</td>\n",
       "      <td>46.0</td>\n",
       "      <td>353.0</td>\n",
       "      <td>354.0</td>\n",
       "      <td>6074.305652</td>\n",
       "      <td>2.546929e+05</td>\n",
       "    </tr>\n",
       "    <tr>\n",
       "      <th>2710</th>\n",
       "      <td>18102</td>\n",
       "      <td>26.0</td>\n",
       "      <td>367.0</td>\n",
       "      <td>367.0</td>\n",
       "      <td>8866.081538</td>\n",
       "      <td>2.048721e+05</td>\n",
       "    </tr>\n",
       "    <tr>\n",
       "      <th>2416</th>\n",
       "      <td>17450</td>\n",
       "      <td>32.0</td>\n",
       "      <td>359.0</td>\n",
       "      <td>367.0</td>\n",
       "      <td>5795.416563</td>\n",
       "      <td>1.641997e+05</td>\n",
       "    </tr>\n",
       "    <tr>\n",
       "      <th>834</th>\n",
       "      <td>14096</td>\n",
       "      <td>16.0</td>\n",
       "      <td>97.0</td>\n",
       "      <td>101.0</td>\n",
       "      <td>3568.791875</td>\n",
       "      <td>1.636987e+05</td>\n",
       "    </tr>\n",
       "    <tr>\n",
       "      <th>...</th>\n",
       "      <td>...</td>\n",
       "      <td>...</td>\n",
       "      <td>...</td>\n",
       "      <td>...</td>\n",
       "      <td>...</td>\n",
       "      <td>...</td>\n",
       "    </tr>\n",
       "    <tr>\n",
       "      <th>1381</th>\n",
       "      <td>15213</td>\n",
       "      <td>1.0</td>\n",
       "      <td>11.0</td>\n",
       "      <td>329.0</td>\n",
       "      <td>11.850000</td>\n",
       "      <td>3.094521e+01</td>\n",
       "    </tr>\n",
       "    <tr>\n",
       "      <th>2597</th>\n",
       "      <td>17816</td>\n",
       "      <td>3.0</td>\n",
       "      <td>329.0</td>\n",
       "      <td>365.0</td>\n",
       "      <td>6.783333</td>\n",
       "      <td>2.982042e+01</td>\n",
       "    </tr>\n",
       "    <tr>\n",
       "      <th>2290</th>\n",
       "      <td>17194</td>\n",
       "      <td>1.0</td>\n",
       "      <td>87.0</td>\n",
       "      <td>360.0</td>\n",
       "      <td>10.000000</td>\n",
       "      <td>2.583757e+01</td>\n",
       "    </tr>\n",
       "    <tr>\n",
       "      <th>1943</th>\n",
       "      <td>16454</td>\n",
       "      <td>2.0</td>\n",
       "      <td>196.0</td>\n",
       "      <td>240.0</td>\n",
       "      <td>3.450000</td>\n",
       "      <td>2.541408e+01</td>\n",
       "    </tr>\n",
       "    <tr>\n",
       "      <th>2349</th>\n",
       "      <td>17334</td>\n",
       "      <td>2.0</td>\n",
       "      <td>7.0</td>\n",
       "      <td>308.0</td>\n",
       "      <td>5.040000</td>\n",
       "      <td>2.432756e+01</td>\n",
       "    </tr>\n",
       "  </tbody>\n",
       "</table>\n",
       "<p>2797 rows × 6 columns</p>\n",
       "</div>"
      ],
      "text/plain": [
       "     customerid  frequency  recency      T  monetary_value           clv\n",
       "2796        NaN      276.0    373.0  373.0     5199.629783  1.233074e+06\n",
       "1111      14646       46.0    353.0  354.0     6074.305652  2.546929e+05\n",
       "2710      18102       26.0    367.0  367.0     8866.081538  2.048721e+05\n",
       "2416      17450       32.0    359.0  367.0     5795.416563  1.641997e+05\n",
       "834       14096       16.0     97.0  101.0     3568.791875  1.636987e+05\n",
       "...         ...        ...      ...    ...             ...           ...\n",
       "1381      15213        1.0     11.0  329.0       11.850000  3.094521e+01\n",
       "2597      17816        3.0    329.0  365.0        6.783333  2.982042e+01\n",
       "2290      17194        1.0     87.0  360.0       10.000000  2.583757e+01\n",
       "1943      16454        2.0    196.0  240.0        3.450000  2.541408e+01\n",
       "2349      17334        2.0      7.0  308.0        5.040000  2.432756e+01\n",
       "\n",
       "[2797 rows x 6 columns]"
      ]
     },
     "execution_count": 188,
     "metadata": {},
     "output_type": "execute_result"
    }
   ],
   "source": [
    "clv_df.sort_values(by=['clv'], ascending=False)"
   ]
  },
  {
   "cell_type": "markdown",
   "id": "b42a1605-3abe-4a49-b49c-bbf7bedcdff6",
   "metadata": {},
   "source": [
    "CLV is a powerful metric used by organizations to plan targeted promotional activities and assess customer equity. As such, it would be very helpful if we could convert our models into an easy to use function which we could employ in batch, streaming and interactive scenarios."
   ]
  }
 ],
 "metadata": {
  "kernelspec": {
   "display_name": "Python 3 (ipykernel)",
   "language": "python",
   "name": "python3"
  },
  "language_info": {
   "codemirror_mode": {
    "name": "ipython",
    "version": 3
   },
   "file_extension": ".py",
   "mimetype": "text/x-python",
   "name": "python",
   "nbconvert_exporter": "python",
   "pygments_lexer": "ipython3",
   "version": "3.9.16"
  }
 },
 "nbformat": 4,
 "nbformat_minor": 5
}
